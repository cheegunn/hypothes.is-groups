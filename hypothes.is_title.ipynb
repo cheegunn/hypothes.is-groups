{
 "cells": [
  {
   "cell_type": "code",
   "execution_count": 1,
   "metadata": {
    "collapsed": true
   },
   "outputs": [],
   "source": [
    "import requests"
   ]
  },
  {
   "cell_type": "code",
   "execution_count": 2,
   "metadata": {
    "collapsed": true
   },
   "outputs": [],
   "source": [
    "apikey=\"6879-29039272478ea993ba5665d046cc25e1\""
   ]
  },
  {
   "cell_type": "code",
   "execution_count": 4,
   "metadata": {
    "collapsed": false
   },
   "outputs": [],
   "source": [
    "argument = \"Bearer \" + apikey "
   ]
  },
  {
   "cell_type": "code",
   "execution_count": 8,
   "metadata": {
    "collapsed": false
   },
   "outputs": [],
   "source": [
    "headers = {'Host': 'hypothes.is',\n",
    "'Accept': 'application/json',\n",
    "'Authorization': argument}"
   ]
  },
  {
   "cell_type": "code",
   "execution_count": 11,
   "metadata": {
    "collapsed": false
   },
   "outputs": [],
   "source": [
    "group_id = \"mrYdA6zk\"\n",
    "url = \"https://hypothes.is/api/search?group=\" + group_id\n",
    "annotations = requests.get(url, headers=headers)"
   ]
  },
  {
   "cell_type": "code",
   "execution_count": 12,
   "metadata": {
    "collapsed": false
   },
   "outputs": [
    {
     "data": {
      "text/plain": [
       "<Response [200]>"
      ]
     },
     "execution_count": 12,
     "metadata": {},
     "output_type": "execute_result"
    }
   ],
   "source": [
    "annotations"
   ]
  },
  {
   "cell_type": "code",
   "execution_count": 16,
   "metadata": {
    "collapsed": false
   },
   "outputs": [],
   "source": [
    "import json \n",
    "our_json = json.loads(annotations.text)"
   ]
  },
  {
   "cell_type": "code",
   "execution_count": 17,
   "metadata": {
    "collapsed": false
   },
   "outputs": [
    {
     "data": {
      "text/plain": [
       "dict"
      ]
     },
     "execution_count": 17,
     "metadata": {},
     "output_type": "execute_result"
    }
   ],
   "source": [
    "type(our_json)"
   ]
  },
  {
   "cell_type": "code",
   "execution_count": 26,
   "metadata": {
    "collapsed": false
   },
   "outputs": [
    {
     "name": "stdout",
     "output_type": "stream",
     "text": [
      "Paula Kantala McAndrews Digital Library | Committees\n",
      "Paula Kantala McAndrews Digital Library | Committees\n",
      "Paula Kantala McAndrews Digital Library | Paula's Biography\n",
      "Digital Scrapbooks : Collections : College Archives : Library : Simmons College, Boston, Massachusetts\n",
      "Digital Scrapbooks : Collections : College Archives : Library : Simmons College, Boston, Massachusetts\n",
      "Digital Scrapbooks : Collections : College Archives : Library : Simmons College, Boston, Massachusetts\n",
      "Art & Architecture Thesaurus Full Record Display (Getty Research)\n",
      "Paula Kantala McAndrews Digital Library | Browse Items by Type\n",
      "Paula Kantala McAndrews Digital Library | Summary of View Scrapbooks\n",
      "Paula Kantala McAndrews Digital Library | Browse Items by Type\n",
      "Paula Kantala McAndrews Digital Library\n"
     ]
    }
   ],
   "source": [
    "for number, row in enumerate(our_json['rows']):\n",
    "    print our_json['rows'][number][\"document\"][\"title\"][0]"
   ]
  },
  {
   "cell_type": "code",
   "execution_count": null,
   "metadata": {
    "collapsed": true
   },
   "outputs": [],
   "source": []
  }
 ],
 "metadata": {
  "kernelspec": {
   "display_name": "Python 2",
   "language": "python",
   "name": "python2"
  },
  "language_info": {
   "codemirror_mode": {
    "name": "ipython",
    "version": 2
   },
   "file_extension": ".py",
   "mimetype": "text/x-python",
   "name": "python",
   "nbconvert_exporter": "python",
   "pygments_lexer": "ipython2",
   "version": "2.7.11"
  }
 },
 "nbformat": 4,
 "nbformat_minor": 0
}
